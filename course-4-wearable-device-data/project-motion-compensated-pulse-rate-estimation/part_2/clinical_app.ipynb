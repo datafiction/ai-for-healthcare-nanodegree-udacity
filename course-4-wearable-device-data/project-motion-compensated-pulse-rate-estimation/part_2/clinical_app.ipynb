{
 "cells": [
  {
   "cell_type": "markdown",
   "metadata": {},
   "source": [
    "## Part 2: Clinical Application\n",
    "\n",
    "### Contents\n",
    "Fill out this notebook as part 2 of your final project submission.\n",
    "\n",
    "**You will have to complete the Code (Load Metadata & Compute Resting Heart Rate) and Project Write-up sections.**  \n",
    "\n",
    "- [Code](#Code) is where you will implement some parts of the **pulse rate algorithm** you created and tested in Part 1 and already includes the starter code.\n",
    "  - [Imports](#Imports) - These are the imports needed for Part 2 of the final project. \n",
    "    - [glob](https://docs.python.org/3/library/glob.html)\n",
    "    - [os](https://docs.python.org/3/library/os.html)\n",
    "    - [numpy](https://numpy.org/)\n",
    "    - [pandas](https://pandas.pydata.org/)\n",
    "  - [Load the Dataset](#Load-the-dataset)  \n",
    "  - [Load Metadata](#Load-Metadata)\n",
    "  - [Compute Resting Heart Rate](#Compute-Resting-Heart-Rate)\n",
    "  - [Plot Resting Heart Rate vs. Age Group](#Plot-Resting-Heart-Rate-vs.-Age-Group)\n",
    "- [Project Write-up](#Project-Write-Up) to describe the clinical significance you observe from the **pulse rate algorithm** applied to this dataset, what ways/information that could improve your results, and if we validated a trend known in the science community. \n",
    "\n",
    "### Dataset (CAST)\n",
    "\n",
    "The data from this project comes from the [Cardiac Arrythmia Suppression Trial (CAST)](https://physionet.org/content/crisdb/1.0.0/), which was sponsored by the National Heart, Lung, and Blood Institute (NHLBI). CAST collected 24 hours of heart rate data from ECGs from people who have had a myocardial infarction (MI) within the past two years.[1] This data has been smoothed and resampled to more closely resemble PPG-derived pulse rate data from a wrist wearable.[2]\n",
    "\n",
    "1. **CAST RR Interval Sub-Study Database Citation** - Stein PK, Domitrovich PP, Kleiger RE, Schechtman KB, Rottman JN. Clinical and demographic determinants of heart rate variability in patients post myocardial infarction: insights from the Cardiac Arrhythmia Suppression Trial (CAST). Clin Cardiol 23(3):187-94; 2000 (Mar)\n",
    "2. **Physionet Citation** - Goldberger AL, Amaral LAN, Glass L, Hausdorff JM, Ivanov PCh, Mark RG, Mietus JE, Moody GB, Peng C-K, Stanley HE. PhysioBank, PhysioToolkit, and PhysioNet: Components of a New Research Resource for Complex Physiologic Signals (2003). Circulation. 101(23):e215-e220.\n",
    "\n",
    "-----"
   ]
  },
  {
   "cell_type": "markdown",
   "metadata": {},
   "source": [
    "### Code\n",
    "#### Imports\n",
    "\n",
    "When you implement the functions, you'll only need to you use the packages you've used in the classroom, like [Pandas](https://pandas.pydata.org/) and [Numpy](http://www.numpy.org/). These packages are imported for you here. We recommend you don't import other packages outside of the [Standard Library](https://docs.python.org/3/library/) , otherwise the grader might not be able to run your code."
   ]
  },
  {
   "cell_type": "code",
   "execution_count": 1,
   "metadata": {},
   "outputs": [],
   "source": [
    "import glob\n",
    "import os\n",
    "\n",
    "import numpy as np\n",
    "import pandas as pd\n",
    "import csv"
   ]
  },
  {
   "cell_type": "markdown",
   "metadata": {},
   "source": [
    "#### Load the dataset\n",
    "\n",
    "The dataset is stored as [.npz](https://docs.scipy.org/doc/numpy/reference/generated/numpy.savez.html) files. Each file contains roughly 24 hours of heart rate data in the 'hr' array sampled at 1Hz. The subject ID is the name of the file. You will use these files to compute resting heart rate.\n",
    "\n",
    "Demographics metadata is stored in a file called 'metadata.csv'. This CSV has three columns, one for subject ID, age group, and sex. You will use this file to make the association between resting heart rate and age group for each gender.\n",
    "\n",
    "Find the dataset in `../datasets/crisdb/`"
   ]
  },
  {
   "cell_type": "code",
   "execution_count": 2,
   "metadata": {},
   "outputs": [],
   "source": [
    "hr_filenames = glob.glob('/data/crisdb/*.npz')"
   ]
  },
  {
   "cell_type": "code",
   "execution_count": 3,
   "metadata": {},
   "outputs": [
    {
     "data": {
      "text/plain": [
       "1537"
      ]
     },
     "execution_count": 3,
     "metadata": {},
     "output_type": "execute_result"
    }
   ],
   "source": [
    "# Determine number of files\n",
    "len(hr_filenames)"
   ]
  },
  {
   "cell_type": "code",
   "execution_count": 4,
   "metadata": {},
   "outputs": [
    {
     "name": "stdout",
     "output_type": "stream",
     "text": [
      "/data/crisdb/e190a.npz\n",
      "/data/crisdb/e014b.npz\n",
      "/data/crisdb/m169b.npz\n",
      "/data/crisdb/e057a.npz\n",
      "/data/crisdb/e093b.npz\n",
      "/data/crisdb/m207b.npz\n",
      "/data/crisdb/e247a.npz\n",
      "/data/crisdb/e071b.npz\n",
      "/data/crisdb/m165a.npz\n",
      "/data/crisdb/e281b.npz\n"
     ]
    }
   ],
   "source": [
    "# Explore the format of hr_filenames\n",
    "for i in range(10):\n",
    "    print(hr_filenames[i])"
   ]
  },
  {
   "cell_type": "markdown",
   "metadata": {},
   "source": [
    "#### Load Metadata\n",
    "Load the metadata file into a datastructure that allows for easy lookups from subject ID to age group and sex."
   ]
  },
  {
   "cell_type": "code",
   "execution_count": 5,
   "metadata": {},
   "outputs": [
    {
     "data": {
      "text/plain": [
       "\"\\n# Load CSV with Python Standard Library\\nmetadata_filename = '/data/crisdb/metadata.csv'\\n\\n# Load the metadata file into this variable.\\nwith open(metadata_filename, 'r') as f:\\n    reader = csv.reader(f, delimiter=',')\\n    headers = next(reader)\\n    metadata = np.array(list(reader)).astype(str)\\n    \\nfor i in range(5):\\n    print(metadata[i])\\n\""
      ]
     },
     "execution_count": 5,
     "metadata": {},
     "output_type": "execute_result"
    }
   ],
   "source": [
    "\"\"\"\n",
    "# Load CSV with Python Standard Library\n",
    "metadata_filename = '/data/crisdb/metadata.csv'\n",
    "\n",
    "# Load the metadata file into this variable.\n",
    "with open(metadata_filename, 'r') as f:\n",
    "    reader = csv.reader(f, delimiter=',')\n",
    "    headers = next(reader)\n",
    "    metadata = np.array(list(reader)).astype(str)\n",
    "    \n",
    "for i in range(5):\n",
    "    print(metadata[i])\n",
    "\"\"\""
   ]
  },
  {
   "cell_type": "code",
   "execution_count": 6,
   "metadata": {},
   "outputs": [
    {
     "data": {
      "text/plain": [
       "\"\\n# Load CSV with Numpy\\nmetadata_filename = '/data/crisdb/metadata.csv'\\n\\n# Load the metadata file into this variable.\\nmetadata = np.genfromtxt(metadata_filename, dtype='b', delimiter=',', names=True)\\n\\nprint(metadata)\\n\""
      ]
     },
     "execution_count": 6,
     "metadata": {},
     "output_type": "execute_result"
    }
   ],
   "source": [
    "\"\"\"\n",
    "# Load CSV with Numpy\n",
    "metadata_filename = '/data/crisdb/metadata.csv'\n",
    "\n",
    "# Load the metadata file into this variable.\n",
    "metadata = np.genfromtxt(metadata_filename, dtype='b', delimiter=',', names=True)\n",
    "\n",
    "print(metadata)\n",
    "\"\"\""
   ]
  },
  {
   "cell_type": "code",
   "execution_count": 7,
   "metadata": {},
   "outputs": [
    {
     "data": {
      "text/html": [
       "<div>\n",
       "<style scoped>\n",
       "    .dataframe tbody tr th:only-of-type {\n",
       "        vertical-align: middle;\n",
       "    }\n",
       "\n",
       "    .dataframe tbody tr th {\n",
       "        vertical-align: top;\n",
       "    }\n",
       "\n",
       "    .dataframe thead th {\n",
       "        text-align: right;\n",
       "    }\n",
       "</style>\n",
       "<table border=\"1\" class=\"dataframe\">\n",
       "  <thead>\n",
       "    <tr style=\"text-align: right;\">\n",
       "      <th></th>\n",
       "      <th>age</th>\n",
       "      <th>sex</th>\n",
       "    </tr>\n",
       "    <tr>\n",
       "      <th>subject</th>\n",
       "      <th></th>\n",
       "      <th></th>\n",
       "    </tr>\n",
       "  </thead>\n",
       "  <tbody>\n",
       "    <tr>\n",
       "      <th>e198a</th>\n",
       "      <td>20-24</td>\n",
       "      <td>Male</td>\n",
       "    </tr>\n",
       "    <tr>\n",
       "      <th>e198b</th>\n",
       "      <td>20-24</td>\n",
       "      <td>Male</td>\n",
       "    </tr>\n",
       "    <tr>\n",
       "      <th>e028b</th>\n",
       "      <td>30-34</td>\n",
       "      <td>Male</td>\n",
       "    </tr>\n",
       "    <tr>\n",
       "      <th>e028a</th>\n",
       "      <td>30-34</td>\n",
       "      <td>Male</td>\n",
       "    </tr>\n",
       "    <tr>\n",
       "      <th>e061b</th>\n",
       "      <td>30-34</td>\n",
       "      <td>Male</td>\n",
       "    </tr>\n",
       "  </tbody>\n",
       "</table>\n",
       "</div>"
      ],
      "text/plain": [
       "           age   sex\n",
       "subject             \n",
       "e198a    20-24  Male\n",
       "e198b    20-24  Male\n",
       "e028b    30-34  Male\n",
       "e028a    30-34  Male\n",
       "e061b    30-34  Male"
      ]
     },
     "execution_count": 7,
     "metadata": {},
     "output_type": "execute_result"
    }
   ],
   "source": [
    "# Load CSV with Pandas\n",
    "metadata_filename = '/data/crisdb/metadata.csv'\n",
    "\n",
    "# Load the metadata file into this variable.\n",
    "metadata = pd.read_csv(metadata_filename)\n",
    "metadata = metadata.set_index('subject')\n",
    "\n",
    "metadata.head()"
   ]
  },
  {
   "cell_type": "code",
   "execution_count": 8,
   "metadata": {},
   "outputs": [
    {
     "name": "stdout",
     "output_type": "stream",
     "text": [
      "           age   sex\n",
      "subject             \n",
      "e198a    20-24  Male\n",
      "e198b    20-24  Male\n"
     ]
    }
   ],
   "source": [
    "print(metadata[metadata.age == '20-24'])"
   ]
  },
  {
   "cell_type": "code",
   "execution_count": 9,
   "metadata": {},
   "outputs": [
    {
     "data": {
      "text/plain": [
       "array([  96.        ,   96.        ,   96.        , ...,  101.05263158,\n",
       "        101.26201991,  101.3872721 ])"
      ]
     },
     "execution_count": 9,
     "metadata": {},
     "output_type": "execute_result"
    }
   ],
   "source": [
    "# TEST 1: Load the heart rate timeseries \n",
    "# *** PASSED ***\n",
    "filename = hr_filenames[0]\n",
    "np.load(filename)['hr']"
   ]
  },
  {
   "cell_type": "code",
   "execution_count": 10,
   "metadata": {},
   "outputs": [
    {
     "data": {
      "text/plain": [
       "89.302325581395351"
      ]
     },
     "execution_count": 10,
     "metadata": {},
     "output_type": "execute_result"
    }
   ],
   "source": [
    "# TEST 2: Compute the resting heart rate from the timeseries by finding the lowest 5th percentile value in hr_data\n",
    "# *** PASSED ***\n",
    "filename = hr_filenames[0]\n",
    "hr_data = np.load(filename)['hr']\n",
    "np.percentile(hr_data, 5)"
   ]
  },
  {
   "cell_type": "code",
   "execution_count": 11,
   "metadata": {},
   "outputs": [
    {
     "data": {
      "text/plain": [
       "86212"
      ]
     },
     "execution_count": 11,
     "metadata": {},
     "output_type": "execute_result"
    }
   ],
   "source": [
    "# Check on TEST 2: Number of HR measurements in data\n",
    "len(sorted(hr_data))"
   ]
  },
  {
   "cell_type": "code",
   "execution_count": 12,
   "metadata": {},
   "outputs": [
    {
     "data": {
      "text/plain": [
       "89.302325581395351"
      ]
     },
     "execution_count": 12,
     "metadata": {},
     "output_type": "execute_result"
    }
   ],
   "source": [
    "# Check on TEST 2: Value at 5th percentile\n",
    "sorted(hr_data)[4300]"
   ]
  },
  {
   "cell_type": "code",
   "execution_count": 13,
   "metadata": {},
   "outputs": [
    {
     "data": {
      "text/plain": [
       "'e190a'"
      ]
     },
     "execution_count": 13,
     "metadata": {},
     "output_type": "execute_result"
    }
   ],
   "source": [
    "# TEST 3: Find the subject ID from the filename.\n",
    "# *** PASSED ***\n",
    "filename = hr_filenames[0]\n",
    "(filename.split('/')[3]).split('.')[0]"
   ]
  },
  {
   "cell_type": "code",
   "execution_count": 14,
   "metadata": {},
   "outputs": [
    {
     "data": {
      "text/plain": [
       "'60-64'"
      ]
     },
     "execution_count": 14,
     "metadata": {},
     "output_type": "execute_result"
    }
   ],
   "source": [
    "# TEST 4: Find the age group for this subject in metadata.\n",
    "# *** PASSED ***\n",
    "subject = 'e190a'\n",
    "metadata.at[subject, 'age']"
   ]
  },
  {
   "cell_type": "code",
   "execution_count": 15,
   "metadata": {},
   "outputs": [
    {
     "data": {
      "text/plain": [
       "'Female'"
      ]
     },
     "execution_count": 15,
     "metadata": {},
     "output_type": "execute_result"
    }
   ],
   "source": [
    "# TEST 5: Find the sex for this subject in metadata.\n",
    "# *** PASSED ***\n",
    "subject = 'e190a'\n",
    "metadata.at[subject, 'sex']"
   ]
  },
  {
   "cell_type": "markdown",
   "metadata": {},
   "source": [
    "#### Compute Resting Heart Rate\n",
    "For each subject we want to compute the resting heart rate while keeping track of which age group this subject belongs to. An easy, robust way to compute the resting heart rate is to use the lowest 5th percentile value in the heart rate timeseries."
   ]
  },
  {
   "cell_type": "code",
   "execution_count": 16,
   "metadata": {},
   "outputs": [],
   "source": [
    "def AgeAndRHR(metadata, filename):\n",
    "\n",
    "    # Load the heart rate timeseries\n",
    "    hr_data = np.load(filename)['hr']                           # CORRECT\n",
    "    \n",
    "    # Compute the resting heart rate from the timeseries by finding the lowest 5th percentile value in hr_data\n",
    "    rhr = np.percentile(hr_data, 5)                             # CORRECT\n",
    "\n",
    "    # Find the subject ID from the filename.\n",
    "    subject = (filename.split('/')[3]).split('.')[0]            # CORRECT\n",
    "\n",
    "    # Find the age group for this subject in metadata.\n",
    "    age_group = metadata.at[subject, 'age']                     # CORRECT\n",
    "    \n",
    "    # Find the sex for this subject in metadata.\n",
    "    sex = metadata.at[subject, 'sex']                           # CORRECT\n",
    "\n",
    "    return age_group, sex, rhr\n",
    "\n",
    "df = pd.DataFrame(data=[AgeAndRHR(metadata, filename) for filename in hr_filenames],\n",
    "                  columns=['age_group', 'sex', 'rhr'])"
   ]
  },
  {
   "cell_type": "markdown",
   "metadata": {},
   "source": [
    "#### Plot Resting Heart Rate vs. Age Group\n",
    "We'll use [seaborn](https://seaborn.pydata.org/) to plot the relationship. Seaborn is a thin wrapper around matplotlib, which we've used extensively in this class, that enables higher-level statistical plots.\n",
    "\n",
    "We will use [lineplot](https://seaborn.pydata.org/generated/seaborn.lineplot.html#seaborn.lineplot) to plot the mean of the resting heart rates for each age group along with the 95% confidence interval around the mean. Learn more about making plots that show uncertainty [here](https://seaborn.pydata.org/tutorial/relational.html#aggregation-and-representing-uncertainty)."
   ]
  },
  {
   "cell_type": "code",
   "execution_count": 18,
   "metadata": {},
   "outputs": [
    {
     "data": {
      "text/plain": [
       "([<matplotlib.axis.XTick at 0x7f4ce20df5c0>,\n",
       "  <matplotlib.axis.XTick at 0x7f4ce2153eb8>,\n",
       "  <matplotlib.axis.XTick at 0x7f4ce2105ef0>,\n",
       "  <matplotlib.axis.XTick at 0x7f4ce2110240>,\n",
       "  <matplotlib.axis.XTick at 0x7f4ce21106d8>,\n",
       "  <matplotlib.axis.XTick at 0x7f4ce2110ba8>,\n",
       "  <matplotlib.axis.XTick at 0x7f4ce209a128>,\n",
       "  <matplotlib.axis.XTick at 0x7f4ce209a588>,\n",
       "  <matplotlib.axis.XTick at 0x7f4ce2110828>],\n",
       " <a list of 9 Text xticklabel objects>)"
      ]
     },
     "execution_count": 18,
     "metadata": {},
     "output_type": "execute_result"
    },
    {
     "data": {
      "image/png": "[encoded data removed]",
      "text/plain": [
       "<Figure size 864x576 with 1 Axes>"
      ]
     },
     "metadata": {
      "needs_background": "light"
     },
     "output_type": "display_data"
    }
   ],
   "source": [
    "import seaborn as sns\n",
    "from matplotlib import pyplot as plt\n",
    "\n",
    "labels = sorted(np.unique(df.age_group))\n",
    "df['xaxis'] = df.age_group.map(lambda x: labels.index(x)).astype('float')\n",
    "plt.figure(figsize=(12, 8))\n",
    "sns.lineplot(x='xaxis', y='rhr', hue='sex', data=df)\n",
    "plt.xticks(np.arange(len(labels)), labels)"
   ]
  },
  {
   "cell_type": "markdown",
   "metadata": {},
   "source": [
    "### Clinical Conclusion\n",
    "Answer the following prompts to draw a conclusion about the data.\n",
    "> 1. For women, we see .... \n",
    "> 2. For men, we see ... \n",
    "> 3. In comparison to men, women's heart rate is .... \n",
    "> 4. What are some possible reasons for what we see in our data?\n",
    "> 5. What else can we do or go and find to figure out what is really happening? How would that improve the results?\n",
    "> 6. Did we validate the trend that average resting heart rate increases up until middle age and then decreases into old age? How?\n",
    "\n",
    "Your write-up will go here..."
   ]
  },
  {
   "cell_type": "markdown",
   "metadata": {},
   "source": [
    "### Write-Up\n",
    "\n",
    "1. **For women, we see ...**\n",
    "\n",
    "    - For women, we see the expected trend, where average resting heart rate increases up until middle age, then decreases into old age.\n",
    "    \n",
    "\n",
    "2. **For men, we see ...**\n",
    "\n",
    "    - For men, we do not see the expected trend, at least for the 35-79 year-old segments. In fact, resting heart rate appears to be dropping throughout this age range.\n",
    "    \n",
    "\n",
    "3. **In comparison to men, women's heart rate is ...**\n",
    "\n",
    "    - Women's heart rate is generally higher than it is for men until the late 60s. \n",
    "    - It demonstrates the expected trend in heart rate, while men do not. \n",
    "    - In addition, women's heart rate is is much more variable. While men's heart rates cluster close to the mean within the 95% confidence interval, women's heart rates show a large variation, especially for the 35-54 year-old age range. \n",
    "    \n",
    "\n",
    "4. **What are some possible reasons for what we see in our data**?\n",
    "\n",
    "    - Women may have higher heart rates because of physiological reasons, perhaps because their hearts are smaller, on average, compared to the volume of blood that must be pumped. Therefore they must pump more frequently. \n",
    "    - The lack of expected trend in our data for men might be due to a high level of fitness with respect to the general population. It could also be that heart rate peaks earlier for men than age 35. \n",
    "    - The greater variation in our data for women may be due to smaller sample size. There may be a lot more men in the sample than women, so the 95th confidence interval appears wider. Another reason might be that the variation in health of the women was much greater than the variation in health conditions for men in the sample.\n",
    "\n",
    "\n",
    "5. **What else can we do or go and find to figure out what is really happening? How would that improve the results?**\n",
    "\n",
    "    - To figure out what is really happening, we could try to identify the level of fitness based on subject data. We can also conduct additional exploratory data analyses, determining the number of women versus the number of men, and the ratio of women to men at every age grouping. \n",
    "    - Based on our findings from this research and anlaysis, we could try to improve the results by enlarging the dataset to include a wider variation of fitness levels for men, and a larger number of subjects who are women.\n",
    "    \n",
    "\n",
    "6. **Did we validate the trend that average resting heart rate increases up until middle age and then decreases into old age? How?**\n",
    "\n",
    "    - We validated the trend that average resting heart rate increases up until middle age and then decreases into old age for women.\n",
    "    - However, we could not validate this trend for men. We only see that the heart rate decreases over time from age 35 to age 79."
   ]
  },
  {
   "cell_type": "code",
   "execution_count": null,
   "metadata": {},
   "outputs": [],
   "source": []
  }
 ],
 "metadata": {
  "kernelspec": {
   "display_name": "Python 3",
   "language": "python",
   "name": "python3"
  },
  "language_info": {
   "codemirror_mode": {
    "name": "ipython",
    "version": 3
   },
   "file_extension": ".py",
   "mimetype": "text/x-python",
   "name": "python",
   "nbconvert_exporter": "python",
   "pygments_lexer": "ipython3",
   "version": "3.6.3"
  }
 },
 "nbformat": 4,
 "nbformat_minor": 2
}
