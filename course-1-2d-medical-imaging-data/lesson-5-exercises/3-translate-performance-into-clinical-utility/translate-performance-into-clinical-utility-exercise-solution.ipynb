{
 "cells": [
  {
   "cell_type": "code",
   "execution_count": null,
   "metadata": {},
   "outputs": [],
   "source": [
    "%matplotlib inline\n",
    "import numpy as np # linear algebra\n",
    "import pandas as pd # data processing, CSV file I/O (e.g. pd.read_csv)\n",
    "import matplotlib.pyplot as plt\n",
    "from sklearn.preprocessing import binarize\n",
    "\n",
    "from sklearn.metrics import roc_curve, auc, precision_recall_curve, average_precision_score, plot_precision_recall_curve, f1_score, confusion_matrix"
   ]
  },
  {
   "cell_type": "code",
   "execution_count": null,
   "metadata": {},
   "outputs": [],
   "source": [
    "performances = pd.read_csv('performances.csv')"
   ]
  },
  {
   "cell_type": "code",
   "execution_count": null,
   "metadata": {},
   "outputs": [],
   "source": [
    "performances.head()"
   ]
  },
  {
   "cell_type": "code",
   "execution_count": null,
   "metadata": {},
   "outputs": [],
   "source": [
    "def plot_auc(t_y, p_y):\n",
    "    fig, c_ax = plt.subplots(1,1, figsize = (9, 9))\n",
    "    fpr, tpr, thresholds = roc_curve(t_y, p_y)\n",
    "    c_ax.plot(fpr, tpr, label = '%s (AUC:%0.2f)'  % ('Pneumonia', auc(fpr, tpr)))\n",
    "    c_ax.legend()\n",
    "    c_ax.set_xlabel('False Positive Rate')\n",
    "    c_ax.set_ylabel('True Positive Rate')\n",
    "    \n",
    "def plot_pr(t_y, p_y):\n",
    "    fig, c_ax = plt.subplots(1,1, figsize = (9, 9))\n",
    "    precision, recall, thresholds = precision_recall_curve(t_y, p_y)\n",
    "    c_ax.plot(precision, recall, label = '%s (AP Score:%0.2f)'  % ('Pneumonia', average_precision_score(t_y,p_y)))\n",
    "    c_ax.legend()\n",
    "    c_ax.set_xlabel('Recall')\n",
    "    c_ax.set_ylabel('Precision')\n",
    "\n",
    "def  calc_f1(prec,recall):\n",
    "\n",
    "    return 2*(prec*recall)/(prec+recall)"
   ]
  },
  {
   "cell_type": "code",
   "execution_count": null,
   "metadata": {},
   "outputs": [],
   "source": [
    "plot_auc(performances['ground_truth'],performances['probability'])"
   ]
  },
  {
   "cell_type": "code",
   "execution_count": null,
   "metadata": {},
   "outputs": [],
   "source": [
    "plot_pr(performances['ground_truth'],performances['probability'])"
   ]
  },
  {
   "cell_type": "markdown",
   "metadata": {},
   "source": [
    "I'm going to calculate F1 score for two different scenarios here, one where I choose a threshold that favors precision, and one with a threshold that favors recall: "
   ]
  },
  {
   "cell_type": "code",
   "execution_count": null,
   "metadata": {},
   "outputs": [],
   "source": [
    "precision, recall, thresholds = precision_recall_curve(performances['ground_truth'],performances['probability'])"
   ]
  },
  {
   "cell_type": "code",
   "execution_count": null,
   "metadata": {},
   "outputs": [],
   "source": [
    "# Look at the threshold where precision is 0.8\n",
    "precision_value = 0.8\n",
    "idx = (np.abs(precision - precision_value)).argmin() \n",
    "print('Precision is: '+ str(precision[idx]))\n",
    "print('Recall is: '+ str(recall[idx]))\n",
    "print('Threshold is: '+ str(thresholds[idx]))\n",
    "print('F1 Score is: ' + str(calc_f1(precision[idx],recall[idx])))"
   ]
  },
  {
   "cell_type": "code",
   "execution_count": null,
   "metadata": {},
   "outputs": [],
   "source": [
    "# Look at the threshold where precision is 0.8\n",
    "recall_value = 0.8\n",
    "idx = (np.abs(recall - recall_value)).argmin() \n",
    "print('Precision is: '+ str(precision[idx]))\n",
    "print('Recall is: '+ str(recall[idx]))\n",
    "print('Threshold is: '+ str(thresholds[idx]))\n",
    "print('F1 Score is: ' + str(calc_f1(precision[idx],recall[idx])))"
   ]
  },
  {
   "cell_type": "markdown",
   "metadata": {},
   "source": [
    "As we can see, the thresholds are really different for the two cases. Let's look at what the _accuracy_ of our model would be using those two values, and think about why accuracy really isn't a great performance statistic when evaluating and interpreting the utility of our models. "
   ]
  },
  {
   "cell_type": "code",
   "execution_count": null,
   "metadata": {},
   "outputs": [],
   "source": [
    "probs = performances['probability']\n",
    "t1 = (probs > 0.79)\n",
    "t2 = (probs > 0.39)"
   ]
  },
  {
   "cell_type": "code",
   "execution_count": null,
   "metadata": {},
   "outputs": [],
   "source": [
    "t1 = t1.replace(True,1).replace(False,0)\n",
    "t2 = t2.replace(True,1).replace(False,0)"
   ]
  },
  {
   "cell_type": "code",
   "execution_count": null,
   "metadata": {},
   "outputs": [],
   "source": [
    "compare_t1 = (t1 == performances['ground_truth'])\n",
    "compare_t2 = (t2 == performances['ground_truth'])"
   ]
  },
  {
   "cell_type": "code",
   "execution_count": null,
   "metadata": {},
   "outputs": [],
   "source": [
    "print('Accuracy at threshold 1: ' + str(len(compare_t1[compare_t1])/len(performances)))"
   ]
  },
  {
   "cell_type": "code",
   "execution_count": null,
   "metadata": {},
   "outputs": [],
   "source": [
    "print('Accuracy at threshold 2: ' + str(len(compare_t2[compare_t2])/len(performances)))"
   ]
  },
  {
   "cell_type": "code",
   "execution_count": null,
   "metadata": {},
   "outputs": [],
   "source": []
  }
 ],
 "metadata": {
  "kernelspec": {
   "display_name": "Python 3",
   "language": "python",
   "name": "python3"
  },
  "language_info": {
   "codemirror_mode": {
    "name": "ipython",
    "version": 3
   },
   "file_extension": ".py",
   "mimetype": "text/x-python",
   "name": "python",
   "nbconvert_exporter": "python",
   "pygments_lexer": "ipython3",
   "version": "3.7.6"
  }
 },
 "nbformat": 4,
 "nbformat_minor": 2
}
